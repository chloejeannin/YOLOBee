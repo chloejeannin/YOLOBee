{
  "nbformat": 4,
  "nbformat_minor": 0,
  "metadata": {
    "colab": {
      "provenance": [],
      "gpuType": "T4",
      "mount_file_id": "1-G3-6gYWYcILctNnSI-521vIzPceai-N",
      "authorship_tag": "ABX9TyM3tY9XQVJa9k6OPrIVTu0p",
      "include_colab_link": true
    },
    "kernelspec": {
      "name": "python3",
      "display_name": "Python 3"
    },
    "language_info": {
      "name": "python"
    },
    "accelerator": "GPU"
  },
  "cells": [
    {
      "cell_type": "markdown",
      "metadata": {
        "id": "view-in-github",
        "colab_type": "text"
      },
      "source": [
        "<a href=\"https://colab.research.google.com/github/chloejeannin/YOLOBee/blob/main/notebook/cut_frames.ipynb\" target=\"_parent\"><img src=\"https://colab.research.google.com/assets/colab-badge.svg\" alt=\"Open In Colab\"/></a>"
      ]
    },
    {
      "cell_type": "markdown",
      "source": [
        "Connexion to Drive\n",
        "---\n"
      ],
      "metadata": {
        "id": "I18x9aDun12M"
      }
    },
    {
      "cell_type": "code",
      "execution_count": null,
      "metadata": {
        "colab": {
          "base_uri": "https://localhost:8080/"
        },
        "id": "mLV87Jo0nknf",
        "outputId": "505a3ff4-1a07-4d68-e75a-ee8ad66c0849"
      },
      "outputs": [
        {
          "output_type": "stream",
          "name": "stdout",
          "text": [
            "Mounted at /content/gdrive\n"
          ]
        }
      ],
      "source": [
        "from google.colab import drive\n",
        "drive.mount('/content/gdrive')"
      ]
    },
    {
      "cell_type": "code",
      "source": [
        "import cv2\n",
        "import os"
      ],
      "metadata": {
        "id": "Z_8mbJdBsNub"
      },
      "execution_count": null,
      "outputs": []
    },
    {
      "cell_type": "code",
      "source": [
        "def extract_frames(video_path, output_folder, frame_interval):\n",
        "    # Open the video\n",
        "    cap = cv2.VideoCapture(video_path)\n",
        "\n",
        "    framerate = cap.get(cv2.CAP_PROP_FPS)\n",
        "\n",
        "    # Calculate the time interval between two frames\n",
        "    time_interval = frame_interval / framerate\n",
        "    print(\"time gap between frames: \"+ str(time_interval)+\" seconds\")\n",
        "\n",
        "    # to be sure that the output folder exists\n",
        "    if not os.path.exists(output_folder):\n",
        "        os.makedirs(output_folder)\n",
        "\n",
        "    frame_count = 0\n",
        "    extracted_count = 0\n",
        "\n",
        "    while True:\n",
        "        ret, frame = cap.read()\n",
        "\n",
        "        if not ret:\n",
        "            break\n",
        "\n",
        "        if frame_count % frame_interval == 0:\n",
        "            frame_filename = os.path.join(output_folder, f'frame_{extracted_count:04d}.jpg')\n",
        "            cv2.imwrite(frame_filename, frame)\n",
        "            extracted_count += 1\n",
        "\n",
        "        frame_count += 1\n",
        "\n",
        "    cap.release()\n",
        "    print(\"Extraction finished : \"+str(extracted_count) + \" extracted frames.\")\n",
        "\n",
        "# video's path\n",
        "video_path = '/content/gdrive/Shareddrives/YOLObee_data/01_Data/video_2/video_2_bees_extract_3.mov'\n",
        "\n",
        "# output folder for the frames\n",
        "output_folder = '/content/gdrive/Shareddrives/YOLObee_data/01_Data/video_2/test/'\n",
        "\n",
        "# Frames interval\n",
        "frame_interval = 1\n",
        "\n",
        "# Frames extraction\n",
        "extract_frames(video_path, output_folder, frame_interval)\n"
      ],
      "metadata": {
        "colab": {
          "base_uri": "https://localhost:8080/"
        },
        "id": "_7AZRtdHr2Oc",
        "outputId": "56cb4009-bd41-4222-d3bb-7ecb0e18d3db"
      },
      "execution_count": null,
      "outputs": [
        {
          "output_type": "stream",
          "name": "stdout",
          "text": [
            "time gap between frames: 0.041666666666666664 seconds\n",
            "Extraction finished : 361 extracted frames.\n"
          ]
        }
      ]
    }
  ]
}